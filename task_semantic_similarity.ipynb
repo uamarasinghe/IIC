{
  "nbformat": 4,
  "nbformat_minor": 0,
  "metadata": {
    "colab": {
      "name": "task_semantic_similarity.ipynb",
      "provenance": [],
      "collapsed_sections": [],
      "machine_shape": "hm",
      "authorship_tag": "ABX9TyPFg1GK+HhCtI82ir2l5RBU",
      "include_colab_link": true
    },
    "kernelspec": {
      "name": "python3",
      "display_name": "Python 3"
    }
  },
  "cells": [
    {
      "cell_type": "markdown",
      "metadata": {
        "id": "view-in-github",
        "colab_type": "text"
      },
      "source": [
        "<a href=\"https://colab.research.google.com/github/uamarasinghe/IIC/blob/master/task_semantic_similarity.ipynb\" target=\"_parent\"><img src=\"https://colab.research.google.com/assets/colab-badge.svg\" alt=\"Open In Colab\"/></a>"
      ]
    },
    {
      "cell_type": "code",
      "metadata": {
        "id": "NDqe9YvwiqxQ",
        "colab_type": "code",
        "colab": {
          "base_uri": "https://localhost:8080/",
          "height": 64
        },
        "outputId": "84b4dce4-25c1-4476-9159-29567611796b"
      },
      "source": [
        "from absl import logging\n",
        "\n",
        "import tensorflow as tf\n",
        "import tensorflow_hub as hub\n",
        "import matplotlib.pyplot as plt\n",
        "import numpy as np\n",
        "import os\n",
        "import pandas as pd\n",
        "import re\n",
        "import seaborn as sns"
      ],
      "execution_count": 1,
      "outputs": [
        {
          "output_type": "display_data",
          "data": {
            "text/html": [
              "<p style=\"color: red;\">\n",
              "The default version of TensorFlow in Colab will soon switch to TensorFlow 2.x.<br>\n",
              "We recommend you <a href=\"https://www.tensorflow.org/guide/migrate\" target=\"_blank\">upgrade</a> now \n",
              "or ensure your notebook will continue to use TensorFlow 1.x via the <code>%tensorflow_version 1.x</code> magic:\n",
              "<a href=\"https://colab.research.google.com/notebooks/tensorflow_version.ipynb\" target=\"_blank\">more info</a>.</p>\n"
            ],
            "text/plain": [
              "<IPython.core.display.HTML object>"
            ]
          },
          "metadata": {
            "tags": []
          }
        }
      ]
    },
    {
      "cell_type": "code",
      "metadata": {
        "id": "VOouz00oSniB",
        "colab_type": "code",
        "colab": {}
      },
      "source": [
        " pd.set_option('display.max_colwidth', -1)"
      ],
      "execution_count": 0,
      "outputs": []
    },
    {
      "cell_type": "code",
      "metadata": {
        "id": "-dxwmtrKitV_",
        "colab_type": "code",
        "colab": {}
      },
      "source": [
        "module_url = \"https://tfhub.dev/google/universal-sentence-encoder/2\" #@param [\"https://tfhub.dev/google/universal-sentence-encoder/2\", \"https://tfhub.dev/google/universal-sentence-encoder-large/3\"]"
      ],
      "execution_count": 0,
      "outputs": []
    },
    {
      "cell_type": "code",
      "metadata": {
        "id": "kwaIvtceMcM-",
        "colab_type": "code",
        "colab": {}
      },
      "source": [
        "embed = hub.Module(module_url)"
      ],
      "execution_count": 0,
      "outputs": []
    },
    {
      "cell_type": "code",
      "metadata": {
        "id": "jqFzmXQ4jx7x",
        "colab_type": "code",
        "outputId": "81a4722a-1a71-420b-aa68-dcf36f590b17",
        "colab": {
          "base_uri": "https://localhost:8080/",
          "height": 124
        }
      },
      "source": [
        "from google.colab import drive\n",
        "drive.mount('/content/drive')"
      ],
      "execution_count": 5,
      "outputs": [
        {
          "output_type": "stream",
          "text": [
            "Go to this URL in a browser: https://accounts.google.com/o/oauth2/auth?client_id=947318989803-6bn6qk8qdgf4n4g3pfee6491hc0brc4i.apps.googleusercontent.com&redirect_uri=urn%3aietf%3awg%3aoauth%3a2.0%3aoob&response_type=code&scope=email%20https%3a%2f%2fwww.googleapis.com%2fauth%2fdocs.test%20https%3a%2f%2fwww.googleapis.com%2fauth%2fdrive%20https%3a%2f%2fwww.googleapis.com%2fauth%2fdrive.photos.readonly%20https%3a%2f%2fwww.googleapis.com%2fauth%2fpeopleapi.readonly\n",
            "\n",
            "Enter your authorization code:\n",
            "··········\n",
            "Mounted at /content/drive\n"
          ],
          "name": "stdout"
        }
      ]
    },
    {
      "cell_type": "code",
      "metadata": {
        "id": "P3zWlzNvaOnP",
        "colab_type": "code",
        "colab": {}
      },
      "source": [
        "csr_tasks = [\n",
        "'Process financial transactions like deposits, withdrawals and bill payments as per standardized operating procedures, industry regulations and TD''s Code of Conduct and Ethics'\n",
        ",'Understand and determine customer needs to recommend solutions specific to those needs while exercising discretion in confidential matters'\n",
        ",'Respond and resolve customers'' concerns using standard procedures and escalating non-standard activities, as necessary'\n",
        ",'Achieve assigned goals and business objectives by promoting banking solutions and completing business processes in a timely and accurate manner'\n",
        ",'Connect personally with customers to advise them appropriately and clearly on banking solutions and processes'\n",
        ",'Help build a positive, diverse and equitable work environment by promoting team effectiveness as well as participating in personal performance development'\n",
        ",'Assist the team by respecting coworkers, staying dedicated, and keeping everyone up-to-date on the status of routine activities'\n",
        ",'Deliver quality customer experiences and recommend operational improvements where opportunity exists to improve and achieve operational excellence'\n",
        "]"
      ],
      "execution_count": 0,
      "outputs": []
    },
    {
      "cell_type": "code",
      "metadata": {
        "id": "PdWnlVc4tfb2",
        "colab_type": "code",
        "colab": {}
      },
      "source": [
        "sales_associate=[\n",
        "                 'Ensures the sales floor is well maintained and stocked at all times'\n",
        ",'Utilizes sales techniques to maximize store sales performance'\n",
        ",'Builds and maintains relationships with guests'\n",
        ",'Participates in processes and procedures related to the department'\n",
        ",'Focuses on details with a firm, clear and highly professional style'\n",
        ",'Performs other duties as required or assigned'\n",
        "]"
      ],
      "execution_count": 0,
      "outputs": []
    },
    {
      "cell_type": "code",
      "metadata": {
        "id": "m3DNLU0qLt-a",
        "colab_type": "code",
        "colab": {}
      },
      "source": [
        "def onet_embedding(onet_tasks=pd.read_csv('/content/drive/My Drive/Job_Scores.csv')):\n",
        "  with tf.Session() as session:\n",
        "    session.run([tf.global_variables_initializer(), tf.tables_initializer()])\n",
        "    result = session.run(embed(onet_tasks['Task']))\n",
        "  return result  "
      ],
      "execution_count": 0,
      "outputs": []
    },
    {
      "cell_type": "code",
      "metadata": {
        "id": "4Jrkz3EHL4L2",
        "colab_type": "code",
        "colab": {
          "base_uri": "https://localhost:8080/",
          "height": 330
        },
        "outputId": "e97b19bb-9bf4-4be2-9ad9-4a61c90174b3"
      },
      "source": [
        "onet_embd = onet_embedding()"
      ],
      "execution_count": 9,
      "outputs": [
        {
          "output_type": "error",
          "ename": "KeyboardInterrupt",
          "evalue": "ignored",
          "traceback": [
            "\u001b[0;31m---------------------------------------------------------------------------\u001b[0m",
            "\u001b[0;31mKeyboardInterrupt\u001b[0m                         Traceback (most recent call last)",
            "\u001b[0;32m<ipython-input-9-4937d62d6c73>\u001b[0m in \u001b[0;36m<module>\u001b[0;34m()\u001b[0m\n\u001b[0;32m----> 1\u001b[0;31m \u001b[0monet_embd\u001b[0m \u001b[0;34m=\u001b[0m \u001b[0monet_embedding\u001b[0m\u001b[0;34m(\u001b[0m\u001b[0;34m)\u001b[0m\u001b[0;34m\u001b[0m\u001b[0;34m\u001b[0m\u001b[0m\n\u001b[0m",
            "\u001b[0;32m<ipython-input-8-51638bf833da>\u001b[0m in \u001b[0;36monet_embedding\u001b[0;34m(onet_tasks)\u001b[0m\n\u001b[1;32m      2\u001b[0m   \u001b[0;32mwith\u001b[0m \u001b[0mtf\u001b[0m\u001b[0;34m.\u001b[0m\u001b[0mSession\u001b[0m\u001b[0;34m(\u001b[0m\u001b[0;34m)\u001b[0m \u001b[0;32mas\u001b[0m \u001b[0msession\u001b[0m\u001b[0;34m:\u001b[0m\u001b[0;34m\u001b[0m\u001b[0;34m\u001b[0m\u001b[0m\n\u001b[1;32m      3\u001b[0m     \u001b[0msession\u001b[0m\u001b[0;34m.\u001b[0m\u001b[0mrun\u001b[0m\u001b[0;34m(\u001b[0m\u001b[0;34m[\u001b[0m\u001b[0mtf\u001b[0m\u001b[0;34m.\u001b[0m\u001b[0mglobal_variables_initializer\u001b[0m\u001b[0;34m(\u001b[0m\u001b[0;34m)\u001b[0m\u001b[0;34m,\u001b[0m \u001b[0mtf\u001b[0m\u001b[0;34m.\u001b[0m\u001b[0mtables_initializer\u001b[0m\u001b[0;34m(\u001b[0m\u001b[0;34m)\u001b[0m\u001b[0;34m]\u001b[0m\u001b[0;34m)\u001b[0m\u001b[0;34m\u001b[0m\u001b[0;34m\u001b[0m\u001b[0m\n\u001b[0;32m----> 4\u001b[0;31m     \u001b[0mresult\u001b[0m \u001b[0;34m=\u001b[0m \u001b[0msession\u001b[0m\u001b[0;34m.\u001b[0m\u001b[0mrun\u001b[0m\u001b[0;34m(\u001b[0m\u001b[0membed\u001b[0m\u001b[0;34m(\u001b[0m\u001b[0monet_tasks\u001b[0m\u001b[0;34m[\u001b[0m\u001b[0;34m'Task'\u001b[0m\u001b[0;34m]\u001b[0m\u001b[0;34m)\u001b[0m\u001b[0;34m)\u001b[0m\u001b[0;34m\u001b[0m\u001b[0;34m\u001b[0m\u001b[0m\n\u001b[0m\u001b[1;32m      5\u001b[0m   \u001b[0;32mreturn\u001b[0m \u001b[0mresult\u001b[0m\u001b[0;34m\u001b[0m\u001b[0;34m\u001b[0m\u001b[0m\n",
            "\u001b[0;32m/usr/local/lib/python3.6/dist-packages/tensorflow_hub/module.py\u001b[0m in \u001b[0;36m__call__\u001b[0;34m(self, inputs, _sentinel, signature, as_dict)\u001b[0m\n\u001b[1;32m    259\u001b[0m         \u001b[0msignature\u001b[0m\u001b[0;34m=\u001b[0m\u001b[0msignature\u001b[0m\u001b[0;34m,\u001b[0m\u001b[0;34m\u001b[0m\u001b[0;34m\u001b[0m\u001b[0m\n\u001b[1;32m    260\u001b[0m         \u001b[0minput_tensors\u001b[0m\u001b[0;34m=\u001b[0m\u001b[0mdict_inputs\u001b[0m\u001b[0;34m,\u001b[0m\u001b[0;34m\u001b[0m\u001b[0;34m\u001b[0m\u001b[0m\n\u001b[0;32m--> 261\u001b[0;31m         name=name)\n\u001b[0m\u001b[1;32m    262\u001b[0m     \u001b[0;32mreturn\u001b[0m \u001b[0m_prepare_outputs\u001b[0m\u001b[0;34m(\u001b[0m\u001b[0mdict_outputs\u001b[0m\u001b[0;34m,\u001b[0m \u001b[0mas_dict\u001b[0m\u001b[0;34m=\u001b[0m\u001b[0mas_dict\u001b[0m\u001b[0;34m)\u001b[0m\u001b[0;34m\u001b[0m\u001b[0;34m\u001b[0m\u001b[0m\n\u001b[1;32m    263\u001b[0m \u001b[0;34m\u001b[0m\u001b[0m\n",
            "\u001b[0;32m/usr/local/lib/python3.6/dist-packages/tensorflow_hub/native_module.py\u001b[0m in \u001b[0;36mcreate_apply_graph\u001b[0;34m(self, signature, input_tensors, name)\u001b[0m\n\u001b[1;32m    608\u001b[0m         \u001b[0mmeta_graph\u001b[0m\u001b[0;34m,\u001b[0m\u001b[0;34m\u001b[0m\u001b[0;34m\u001b[0m\u001b[0m\n\u001b[1;32m    609\u001b[0m         \u001b[0minput_map\u001b[0m\u001b[0;34m=\u001b[0m\u001b[0mfeed_map\u001b[0m\u001b[0;34m,\u001b[0m\u001b[0;34m\u001b[0m\u001b[0;34m\u001b[0m\u001b[0m\n\u001b[0;32m--> 610\u001b[0;31m         import_scope=relative_scope_name)\n\u001b[0m\u001b[1;32m    611\u001b[0m     fix_colocation_after_import(input_map=feed_map,\n\u001b[1;32m    612\u001b[0m                                 absolute_import_scope=absolute_scope_name)\n",
            "\u001b[0;32m/usr/local/lib/python3.6/dist-packages/tensorflow_core/python/training/saver.py\u001b[0m in \u001b[0;36mimport_meta_graph\u001b[0;34m(meta_graph_or_file, clear_devices, import_scope, **kwargs)\u001b[0m\n\u001b[1;32m   1451\u001b[0m   return _import_meta_graph_with_return_elements(meta_graph_or_file,\n\u001b[1;32m   1452\u001b[0m                                                  \u001b[0mclear_devices\u001b[0m\u001b[0;34m,\u001b[0m \u001b[0mimport_scope\u001b[0m\u001b[0;34m,\u001b[0m\u001b[0;34m\u001b[0m\u001b[0;34m\u001b[0m\u001b[0m\n\u001b[0;32m-> 1453\u001b[0;31m                                                  **kwargs)[0]\n\u001b[0m\u001b[1;32m   1454\u001b[0m \u001b[0;34m\u001b[0m\u001b[0m\n\u001b[1;32m   1455\u001b[0m \u001b[0;34m\u001b[0m\u001b[0m\n",
            "\u001b[0;32m/usr/local/lib/python3.6/dist-packages/tensorflow_core/python/training/saver.py\u001b[0m in \u001b[0;36m_import_meta_graph_with_return_elements\u001b[0;34m(meta_graph_or_file, clear_devices, import_scope, return_elements, **kwargs)\u001b[0m\n\u001b[1;32m   1475\u001b[0m           \u001b[0mimport_scope\u001b[0m\u001b[0;34m=\u001b[0m\u001b[0mimport_scope\u001b[0m\u001b[0;34m,\u001b[0m\u001b[0;34m\u001b[0m\u001b[0;34m\u001b[0m\u001b[0m\n\u001b[1;32m   1476\u001b[0m           \u001b[0mreturn_elements\u001b[0m\u001b[0;34m=\u001b[0m\u001b[0mreturn_elements\u001b[0m\u001b[0;34m,\u001b[0m\u001b[0;34m\u001b[0m\u001b[0;34m\u001b[0m\u001b[0m\n\u001b[0;32m-> 1477\u001b[0;31m           **kwargs))\n\u001b[0m\u001b[1;32m   1478\u001b[0m \u001b[0;34m\u001b[0m\u001b[0m\n\u001b[1;32m   1479\u001b[0m   saver = _create_saver_from_imported_meta_graph(meta_graph_def, import_scope,\n",
            "\u001b[0;32m/usr/local/lib/python3.6/dist-packages/tensorflow_core/python/framework/meta_graph.py\u001b[0m in \u001b[0;36mimport_scoped_meta_graph_with_return_elements\u001b[0;34m(meta_graph_or_file, clear_devices, graph, import_scope, input_map, unbound_inputs_col_name, restore_collections_predicate, return_elements)\u001b[0m\n\u001b[1;32m    807\u001b[0m         \u001b[0minput_map\u001b[0m\u001b[0;34m=\u001b[0m\u001b[0minput_map\u001b[0m\u001b[0;34m,\u001b[0m\u001b[0;34m\u001b[0m\u001b[0;34m\u001b[0m\u001b[0m\n\u001b[1;32m    808\u001b[0m         \u001b[0mproducer_op_list\u001b[0m\u001b[0;34m=\u001b[0m\u001b[0mproducer_op_list\u001b[0m\u001b[0;34m,\u001b[0m\u001b[0;34m\u001b[0m\u001b[0;34m\u001b[0m\u001b[0m\n\u001b[0;32m--> 809\u001b[0;31m         return_elements=return_elements)\n\u001b[0m\u001b[1;32m    810\u001b[0m \u001b[0;34m\u001b[0m\u001b[0m\n\u001b[1;32m    811\u001b[0m     \u001b[0;31m# TensorFlow versions before 1.9 (not inclusive) exported SavedModels\u001b[0m\u001b[0;34m\u001b[0m\u001b[0;34m\u001b[0m\u001b[0;34m\u001b[0m\u001b[0m\n",
            "\u001b[0;32m/usr/local/lib/python3.6/dist-packages/tensorflow_core/python/util/deprecation.py\u001b[0m in \u001b[0;36mnew_func\u001b[0;34m(*args, **kwargs)\u001b[0m\n\u001b[1;32m    505\u001b[0m                 \u001b[0;34m'in a future version'\u001b[0m \u001b[0;32mif\u001b[0m \u001b[0mdate\u001b[0m \u001b[0;32mis\u001b[0m \u001b[0;32mNone\u001b[0m \u001b[0;32melse\u001b[0m \u001b[0;34m(\u001b[0m\u001b[0;34m'after %s'\u001b[0m \u001b[0;34m%\u001b[0m \u001b[0mdate\u001b[0m\u001b[0;34m)\u001b[0m\u001b[0;34m,\u001b[0m\u001b[0;34m\u001b[0m\u001b[0;34m\u001b[0m\u001b[0m\n\u001b[1;32m    506\u001b[0m                 instructions)\n\u001b[0;32m--> 507\u001b[0;31m       \u001b[0;32mreturn\u001b[0m \u001b[0mfunc\u001b[0m\u001b[0;34m(\u001b[0m\u001b[0;34m*\u001b[0m\u001b[0margs\u001b[0m\u001b[0;34m,\u001b[0m \u001b[0;34m**\u001b[0m\u001b[0mkwargs\u001b[0m\u001b[0;34m)\u001b[0m\u001b[0;34m\u001b[0m\u001b[0;34m\u001b[0m\u001b[0m\n\u001b[0m\u001b[1;32m    508\u001b[0m \u001b[0;34m\u001b[0m\u001b[0m\n\u001b[1;32m    509\u001b[0m     doc = _add_deprecated_arg_notice_to_docstring(\n",
            "\u001b[0;32m/usr/local/lib/python3.6/dist-packages/tensorflow_core/python/framework/importer.py\u001b[0m in \u001b[0;36mimport_graph_def\u001b[0;34m(graph_def, input_map, return_elements, name, op_dict, producer_op_list)\u001b[0m\n\u001b[1;32m    403\u001b[0m       \u001b[0mname\u001b[0m\u001b[0;34m=\u001b[0m\u001b[0mname\u001b[0m\u001b[0;34m,\u001b[0m\u001b[0;34m\u001b[0m\u001b[0;34m\u001b[0m\u001b[0m\n\u001b[1;32m    404\u001b[0m       \u001b[0mop_dict\u001b[0m\u001b[0;34m=\u001b[0m\u001b[0mop_dict\u001b[0m\u001b[0;34m,\u001b[0m\u001b[0;34m\u001b[0m\u001b[0;34m\u001b[0m\u001b[0m\n\u001b[0;32m--> 405\u001b[0;31m       producer_op_list=producer_op_list)\n\u001b[0m\u001b[1;32m    406\u001b[0m \u001b[0;34m\u001b[0m\u001b[0m\n\u001b[1;32m    407\u001b[0m \u001b[0;34m\u001b[0m\u001b[0m\n",
            "\u001b[0;32m/usr/local/lib/python3.6/dist-packages/tensorflow_core/python/framework/importer.py\u001b[0m in \u001b[0;36m_import_graph_def_internal\u001b[0;34m(graph_def, input_map, return_elements, validate_colocation_constraints, name, op_dict, producer_op_list)\u001b[0m\n\u001b[1;32m    499\u001b[0m       \u001b[0;32mtry\u001b[0m\u001b[0;34m:\u001b[0m\u001b[0;34m\u001b[0m\u001b[0;34m\u001b[0m\u001b[0m\n\u001b[1;32m    500\u001b[0m         results = c_api.TF_GraphImportGraphDefWithResults(\n\u001b[0;32m--> 501\u001b[0;31m             graph._c_graph, serialized, options)  # pylint: disable=protected-access\n\u001b[0m\u001b[1;32m    502\u001b[0m         \u001b[0mresults\u001b[0m \u001b[0;34m=\u001b[0m \u001b[0mc_api_util\u001b[0m\u001b[0;34m.\u001b[0m\u001b[0mScopedTFImportGraphDefResults\u001b[0m\u001b[0;34m(\u001b[0m\u001b[0mresults\u001b[0m\u001b[0;34m)\u001b[0m\u001b[0;34m\u001b[0m\u001b[0;34m\u001b[0m\u001b[0m\n\u001b[1;32m    503\u001b[0m       \u001b[0;32mexcept\u001b[0m \u001b[0merrors\u001b[0m\u001b[0;34m.\u001b[0m\u001b[0mInvalidArgumentError\u001b[0m \u001b[0;32mas\u001b[0m \u001b[0me\u001b[0m\u001b[0;34m:\u001b[0m\u001b[0;34m\u001b[0m\u001b[0;34m\u001b[0m\u001b[0m\n",
            "\u001b[0;31mKeyboardInterrupt\u001b[0m: "
          ]
        }
      ]
    },
    {
      "cell_type": "code",
      "metadata": {
        "id": "aj83OSYDbO_N",
        "colab_type": "code",
        "colab": {}
      },
      "source": [
        "def task_similarity_score(task_no, posting_tasks=csr_tasks, onet_tasks=pd.read_csv('/content/drive/My Drive/Job_Scores.csv')): \n",
        "  sim_scores = pd.DataFrame(columns=['onet_task_id', 'onet_task', 'posting_task', 'similarity'])\n",
        "  sim_scores[['onet_task_id', 'onet_task']]=onet_tasks[['Task ID', 'Task']] \n",
        "  sim_scores['posting_task']=posting_tasks[task_no]\n",
        "\n",
        "  with tf.Session() as session:\n",
        "    session.run([tf.global_variables_initializer(), tf.tables_initializer()])\n",
        "    posting_embedding = session.run(embed(posting_tasks))\n",
        "\n",
        "  result = onet_embd.dot(posting_embedding[task_no])\n",
        "  sim_scores['similarity']=result\n",
        "  return sim_scores.sort_values(by='similarity', ascending=False).head(5)"
      ],
      "execution_count": 0,
      "outputs": []
    },
    {
      "cell_type": "code",
      "metadata": {
        "id": "i_-c0LSt97uB",
        "colab_type": "code",
        "outputId": "5355b433-b42c-46ea-a7aa-bc69c989c20f",
        "colab": {
          "base_uri": "https://localhost:8080/",
          "height": 294
        }
      },
      "source": [
        "results_df=task_similarity_score(task_no=0, posting_tasks=sales_associate)\n",
        "for i in range(1, len(csr_tasks)):\n",
        "  results_df=results_df.append(task_similarity_score(task_no=i))"
      ],
      "execution_count": 71,
      "outputs": [
        {
          "output_type": "stream",
          "text": [
            "INFO:tensorflow:Saver not created because there are no variables in the graph to restore\n"
          ],
          "name": "stdout"
        },
        {
          "output_type": "stream",
          "text": [
            "INFO:tensorflow:Saver not created because there are no variables in the graph to restore\n"
          ],
          "name": "stderr"
        },
        {
          "output_type": "stream",
          "text": [
            "INFO:tensorflow:Saver not created because there are no variables in the graph to restore\n"
          ],
          "name": "stdout"
        },
        {
          "output_type": "stream",
          "text": [
            "INFO:tensorflow:Saver not created because there are no variables in the graph to restore\n"
          ],
          "name": "stderr"
        },
        {
          "output_type": "stream",
          "text": [
            "INFO:tensorflow:Saver not created because there are no variables in the graph to restore\n"
          ],
          "name": "stdout"
        },
        {
          "output_type": "stream",
          "text": [
            "INFO:tensorflow:Saver not created because there are no variables in the graph to restore\n"
          ],
          "name": "stderr"
        },
        {
          "output_type": "stream",
          "text": [
            "INFO:tensorflow:Saver not created because there are no variables in the graph to restore\n"
          ],
          "name": "stdout"
        },
        {
          "output_type": "stream",
          "text": [
            "INFO:tensorflow:Saver not created because there are no variables in the graph to restore\n"
          ],
          "name": "stderr"
        },
        {
          "output_type": "stream",
          "text": [
            "INFO:tensorflow:Saver not created because there are no variables in the graph to restore\n"
          ],
          "name": "stdout"
        },
        {
          "output_type": "stream",
          "text": [
            "INFO:tensorflow:Saver not created because there are no variables in the graph to restore\n"
          ],
          "name": "stderr"
        },
        {
          "output_type": "stream",
          "text": [
            "INFO:tensorflow:Saver not created because there are no variables in the graph to restore\n"
          ],
          "name": "stdout"
        },
        {
          "output_type": "stream",
          "text": [
            "INFO:tensorflow:Saver not created because there are no variables in the graph to restore\n"
          ],
          "name": "stderr"
        },
        {
          "output_type": "stream",
          "text": [
            "INFO:tensorflow:Saver not created because there are no variables in the graph to restore\n"
          ],
          "name": "stdout"
        },
        {
          "output_type": "stream",
          "text": [
            "INFO:tensorflow:Saver not created because there are no variables in the graph to restore\n"
          ],
          "name": "stderr"
        },
        {
          "output_type": "stream",
          "text": [
            "INFO:tensorflow:Saver not created because there are no variables in the graph to restore\n"
          ],
          "name": "stdout"
        },
        {
          "output_type": "stream",
          "text": [
            "INFO:tensorflow:Saver not created because there are no variables in the graph to restore\n"
          ],
          "name": "stderr"
        }
      ]
    },
    {
      "cell_type": "code",
      "metadata": {
        "id": "vlusXGacbdnz",
        "colab_type": "code",
        "colab": {
          "base_uri": "https://localhost:8080/",
          "height": 1000
        },
        "outputId": "50fad3de-1bbb-439d-97be-9ee4dc321008"
      },
      "source": [
        "results_df"
      ],
      "execution_count": 72,
      "outputs": [
        {
          "output_type": "execute_result",
          "data": {
            "text/html": [
              "<div>\n",
              "<style scoped>\n",
              "    .dataframe tbody tr th:only-of-type {\n",
              "        vertical-align: middle;\n",
              "    }\n",
              "\n",
              "    .dataframe tbody tr th {\n",
              "        vertical-align: top;\n",
              "    }\n",
              "\n",
              "    .dataframe thead th {\n",
              "        text-align: right;\n",
              "    }\n",
              "</style>\n",
              "<table border=\"1\" class=\"dataframe\">\n",
              "  <thead>\n",
              "    <tr style=\"text-align: right;\">\n",
              "      <th></th>\n",
              "      <th>onet_task_id</th>\n",
              "      <th>onet_task</th>\n",
              "      <th>posting_task</th>\n",
              "      <th>similarity</th>\n",
              "    </tr>\n",
              "  </thead>\n",
              "  <tbody>\n",
              "    <tr>\n",
              "      <th>12984</th>\n",
              "      <td>2749</td>\n",
              "      <td>Pack and unpack items to be stocked on shelves in stockrooms, warehouses, or storage yards.</td>\n",
              "      <td>Ensures the sales floor is well maintained and stocked at all times</td>\n",
              "      <td>0.655448</td>\n",
              "    </tr>\n",
              "    <tr>\n",
              "      <th>11540</th>\n",
              "      <td>2328</td>\n",
              "      <td>Inspect guests' rooms to ensure that they are adequately stocked, orderly, and comfortable.</td>\n",
              "      <td>Ensures the sales floor is well maintained and stocked at all times</td>\n",
              "      <td>0.636406</td>\n",
              "    </tr>\n",
              "    <tr>\n",
              "      <th>17129</th>\n",
              "      <td>14265</td>\n",
              "      <td>Confer with customers to determine furniture colors or finishes.</td>\n",
              "      <td>Ensures the sales floor is well maintained and stocked at all times</td>\n",
              "      <td>0.620005</td>\n",
              "    </tr>\n",
              "    <tr>\n",
              "      <th>11817</th>\n",
              "      <td>689</td>\n",
              "      <td>Receive orders for services, such as rentals, repairs, dry cleaning, and storage.</td>\n",
              "      <td>Ensures the sales floor is well maintained and stocked at all times</td>\n",
              "      <td>0.617726</td>\n",
              "    </tr>\n",
              "    <tr>\n",
              "      <th>14016</th>\n",
              "      <td>11507</td>\n",
              "      <td>Move furniture to clear work sites and cover floors or furnishings with drop cloths.</td>\n",
              "      <td>Ensures the sales floor is well maintained and stocked at all times</td>\n",
              "      <td>0.615975</td>\n",
              "    </tr>\n",
              "    <tr>\n",
              "      <th>1020</th>\n",
              "      <td>15646</td>\n",
              "      <td>Provide assistance to internal or external auditors in compliance reviews.</td>\n",
              "      <td>Understand and determine customer needs to recommend solutions specific to those needs while exercising discretion in confidential matters</td>\n",
              "      <td>0.726597</td>\n",
              "    </tr>\n",
              "    <tr>\n",
              "      <th>18358</th>\n",
              "      <td>3155</td>\n",
              "      <td>Listen to and resolve customers' complaints regarding products or services.</td>\n",
              "      <td>Understand and determine customer needs to recommend solutions specific to those needs while exercising discretion in confidential matters</td>\n",
              "      <td>0.719020</td>\n",
              "    </tr>\n",
              "    <tr>\n",
              "      <th>1011</th>\n",
              "      <td>15644</td>\n",
              "      <td>Provide employee training on compliance related topics, policies, or procedures.</td>\n",
              "      <td>Understand and determine customer needs to recommend solutions specific to those needs while exercising discretion in confidential matters</td>\n",
              "      <td>0.715946</td>\n",
              "    </tr>\n",
              "    <tr>\n",
              "      <th>14848</th>\n",
              "      <td>11655</td>\n",
              "      <td>Demonstrate equipment to customers and explain how it is to be used, and respond to any inquiries or complaints.</td>\n",
              "      <td>Understand and determine customer needs to recommend solutions specific to those needs while exercising discretion in confidential matters</td>\n",
              "      <td>0.705352</td>\n",
              "    </tr>\n",
              "    <tr>\n",
              "      <th>413</th>\n",
              "      <td>3275</td>\n",
              "      <td>Mediate between benefits providers and employees, such as by assisting in handling employees' benefits-related questions or taking suggestions.</td>\n",
              "      <td>Understand and determine customer needs to recommend solutions specific to those needs while exercising discretion in confidential matters</td>\n",
              "      <td>0.698643</td>\n",
              "    </tr>\n",
              "    <tr>\n",
              "      <th>7056</th>\n",
              "      <td>1669</td>\n",
              "      <td>Respond to customer complaints, taking action as necessary.</td>\n",
              "      <td>Respond and resolve customers concerns using standard procedures and escalating non-standard activities, as necessary</td>\n",
              "      <td>0.798288</td>\n",
              "    </tr>\n",
              "    <tr>\n",
              "      <th>2008</th>\n",
              "      <td>3417</td>\n",
              "      <td>Handle customer complaints and take appropriate action to resolve them.</td>\n",
              "      <td>Respond and resolve customers concerns using standard procedures and escalating non-standard activities, as necessary</td>\n",
              "      <td>0.782312</td>\n",
              "    </tr>\n",
              "    <tr>\n",
              "      <th>1880</th>\n",
              "      <td>1258</td>\n",
              "      <td>Consult with customers to resolve complaints and verify financial and credit transactions.</td>\n",
              "      <td>Respond and resolve customers concerns using standard procedures and escalating non-standard activities, as necessary</td>\n",
              "      <td>0.739320</td>\n",
              "    </tr>\n",
              "    <tr>\n",
              "      <th>12676</th>\n",
              "      <td>4729</td>\n",
              "      <td>Investigate and correct errors upon customers' request, according to customer and bank records.</td>\n",
              "      <td>Respond and resolve customers concerns using standard procedures and escalating non-standard activities, as necessary</td>\n",
              "      <td>0.738474</td>\n",
              "    </tr>\n",
              "    <tr>\n",
              "      <th>14848</th>\n",
              "      <td>11655</td>\n",
              "      <td>Demonstrate equipment to customers and explain how it is to be used, and respond to any inquiries or complaints.</td>\n",
              "      <td>Respond and resolve customers concerns using standard procedures and escalating non-standard activities, as necessary</td>\n",
              "      <td>0.734609</td>\n",
              "    </tr>\n",
              "    <tr>\n",
              "      <th>1614</th>\n",
              "      <td>3364</td>\n",
              "      <td>Analyze organizational, occupational, and industrial data to facilitate organizational functions and provide technical information to business, industry, and government.</td>\n",
              "      <td>Achieve assigned goals and business objectives by promoting banking solutions and completing business processes in a timely and accurate manner</td>\n",
              "      <td>0.802072</td>\n",
              "    </tr>\n",
              "    <tr>\n",
              "      <th>1741</th>\n",
              "      <td>15959</td>\n",
              "      <td>Prepare reports summarizing operational results, financial performance, or accomplishments of specified objectives, goals, or plans.</td>\n",
              "      <td>Achieve assigned goals and business objectives by promoting banking solutions and completing business processes in a timely and accurate manner</td>\n",
              "      <td>0.799565</td>\n",
              "    </tr>\n",
              "    <tr>\n",
              "      <th>12206</th>\n",
              "      <td>9718</td>\n",
              "      <td>Analyze financial activities of establishments or departments and provide input into budget planning and preparation processes.</td>\n",
              "      <td>Achieve assigned goals and business objectives by promoting banking solutions and completing business processes in a timely and accurate manner</td>\n",
              "      <td>0.790160</td>\n",
              "    </tr>\n",
              "    <tr>\n",
              "      <th>813</th>\n",
              "      <td>61</td>\n",
              "      <td>Review and analyze facility activities and data to aid planning and cash and risk management and to improve service utilization.</td>\n",
              "      <td>Achieve assigned goals and business objectives by promoting banking solutions and completing business processes in a timely and accurate manner</td>\n",
              "      <td>0.788297</td>\n",
              "    </tr>\n",
              "    <tr>\n",
              "      <th>1807</th>\n",
              "      <td>120</td>\n",
              "      <td>Survey operations to ascertain accounting needs and to recommend, develop, or maintain solutions to business and financial problems.</td>\n",
              "      <td>Achieve assigned goals and business objectives by promoting banking solutions and completing business processes in a timely and accurate manner</td>\n",
              "      <td>0.781090</td>\n",
              "    </tr>\n",
              "    <tr>\n",
              "      <th>12654</th>\n",
              "      <td>11294</td>\n",
              "      <td>Answer questions and advise customers regarding loans and transactions.</td>\n",
              "      <td>Connect personally with customers to advise them appropriately and clearly on banking solutions and processes</td>\n",
              "      <td>0.771614</td>\n",
              "    </tr>\n",
              "    <tr>\n",
              "      <th>1880</th>\n",
              "      <td>1258</td>\n",
              "      <td>Consult with customers to resolve complaints and verify financial and credit transactions.</td>\n",
              "      <td>Connect personally with customers to advise them appropriately and clearly on banking solutions and processes</td>\n",
              "      <td>0.768538</td>\n",
              "    </tr>\n",
              "    <tr>\n",
              "      <th>12673</th>\n",
              "      <td>4724</td>\n",
              "      <td>Refer customers to appropriate bank personnel to meet their financial needs.</td>\n",
              "      <td>Connect personally with customers to advise them appropriately and clearly on banking solutions and processes</td>\n",
              "      <td>0.758399</td>\n",
              "    </tr>\n",
              "    <tr>\n",
              "      <th>11907</th>\n",
              "      <td>20782</td>\n",
              "      <td>Discuss financial options with clients and keep them informed about transactions.</td>\n",
              "      <td>Connect personally with customers to advise them appropriately and clearly on banking solutions and processes</td>\n",
              "      <td>0.757238</td>\n",
              "    </tr>\n",
              "    <tr>\n",
              "      <th>12869</th>\n",
              "      <td>11315</td>\n",
              "      <td>Answer customers' questions about services and charges, or direct them to customer service centers.</td>\n",
              "      <td>Connect personally with customers to advise them appropriately and clearly on banking solutions and processes</td>\n",
              "      <td>0.754811</td>\n",
              "    </tr>\n",
              "    <tr>\n",
              "      <th>419</th>\n",
              "      <td>3269</td>\n",
              "      <td>Plan and conduct new employee orientations to foster positive attitude toward organizational objectives.</td>\n",
              "      <td>Help build a positive, diverse and equitable work environment by promoting team effectiveness as well as participating in personal performance development</td>\n",
              "      <td>0.766938</td>\n",
              "    </tr>\n",
              "    <tr>\n",
              "      <th>430</th>\n",
              "      <td>989</td>\n",
              "      <td>Plan and conduct new employee orientation to foster positive attitude toward organizational objectives.</td>\n",
              "      <td>Help build a positive, diverse and equitable work environment by promoting team effectiveness as well as participating in personal performance development</td>\n",
              "      <td>0.758486</td>\n",
              "    </tr>\n",
              "    <tr>\n",
              "      <th>4764</th>\n",
              "      <td>7564</td>\n",
              "      <td>Advise management concerning personnel, managerial, and marketing policies and practices and their potential effects on organizational effectiveness and efficiency.</td>\n",
              "      <td>Help build a positive, diverse and equitable work environment by promoting team effectiveness as well as participating in personal performance development</td>\n",
              "      <td>0.727726</td>\n",
              "    </tr>\n",
              "    <tr>\n",
              "      <th>13103</th>\n",
              "      <td>2802</td>\n",
              "      <td>Manage projects or contribute to committee or team work.</td>\n",
              "      <td>Help build a positive, diverse and equitable work environment by promoting team effectiveness as well as participating in personal performance development</td>\n",
              "      <td>0.723554</td>\n",
              "    </tr>\n",
              "    <tr>\n",
              "      <th>1746</th>\n",
              "      <td>15981</td>\n",
              "      <td>Develop sustainability project goals, objectives, initiatives, or strategies in collaboration with other sustainability professionals.</td>\n",
              "      <td>Help build a positive, diverse and equitable work environment by promoting team effectiveness as well as participating in personal performance development</td>\n",
              "      <td>0.720640</td>\n",
              "    </tr>\n",
              "    <tr>\n",
              "      <th>18131</th>\n",
              "      <td>8561</td>\n",
              "      <td>Plan work schedules and assign duties to maintain adequate staff for effective performance of activities and response to fluctuating workloads.</td>\n",
              "      <td>Assist the team by respecting coworkers, staying dedicated, and keeping everyone up-to-date on the status of routine activities</td>\n",
              "      <td>0.687563</td>\n",
              "    </tr>\n",
              "    <tr>\n",
              "      <th>942</th>\n",
              "      <td>1129</td>\n",
              "      <td>Direct activities of professional and technical staff members and volunteers.</td>\n",
              "      <td>Assist the team by respecting coworkers, staying dedicated, and keeping everyone up-to-date on the status of routine activities</td>\n",
              "      <td>0.687538</td>\n",
              "    </tr>\n",
              "    <tr>\n",
              "      <th>919</th>\n",
              "      <td>7229</td>\n",
              "      <td>Direct and coordinate the activities of staff and contract personnel and evaluate their performance.</td>\n",
              "      <td>Assist the team by respecting coworkers, staying dedicated, and keeping everyone up-to-date on the status of routine activities</td>\n",
              "      <td>0.674034</td>\n",
              "    </tr>\n",
              "    <tr>\n",
              "      <th>11680</th>\n",
              "      <td>2390</td>\n",
              "      <td>Supervise and coordinate the work activities of personnel, such as training staff members and assigning work duties.</td>\n",
              "      <td>Assist the team by respecting coworkers, staying dedicated, and keeping everyone up-to-date on the status of routine activities</td>\n",
              "      <td>0.670318</td>\n",
              "    </tr>\n",
              "    <tr>\n",
              "      <th>725</th>\n",
              "      <td>1082</td>\n",
              "      <td>Schedule staff hours and assign duties.</td>\n",
              "      <td>Assist the team by respecting coworkers, staying dedicated, and keeping everyone up-to-date on the status of routine activities</td>\n",
              "      <td>0.665302</td>\n",
              "    </tr>\n",
              "    <tr>\n",
              "      <th>11129</th>\n",
              "      <td>13141</td>\n",
              "      <td>Observe and evaluate workers' appearance and performance to ensure quality service and compliance with specifications.</td>\n",
              "      <td>Deliver quality customer experiences and recommend operational improvements where opportunity exists to improve and achieve operational excellence</td>\n",
              "      <td>0.783877</td>\n",
              "    </tr>\n",
              "    <tr>\n",
              "      <th>5369</th>\n",
              "      <td>241</td>\n",
              "      <td>Develop and review service plans in consultation with clients and perform follow-ups assessing the quantity and quality of services provided.</td>\n",
              "      <td>Deliver quality customer experiences and recommend operational improvements where opportunity exists to improve and achieve operational excellence</td>\n",
              "      <td>0.781424</td>\n",
              "    </tr>\n",
              "    <tr>\n",
              "      <th>11729</th>\n",
              "      <td>658</td>\n",
              "      <td>Monitor sales activities to ensure that customers receive satisfactory service and quality goods.</td>\n",
              "      <td>Deliver quality customer experiences and recommend operational improvements where opportunity exists to improve and achieve operational excellence</td>\n",
              "      <td>0.776113</td>\n",
              "    </tr>\n",
              "    <tr>\n",
              "      <th>726</th>\n",
              "      <td>1086</td>\n",
              "      <td>Establish standards for personnel performance and customer service.</td>\n",
              "      <td>Deliver quality customer experiences and recommend operational improvements where opportunity exists to improve and achieve operational excellence</td>\n",
              "      <td>0.758018</td>\n",
              "    </tr>\n",
              "    <tr>\n",
              "      <th>409</th>\n",
              "      <td>3285</td>\n",
              "      <td>Manage the design and development of tools to assist employees in benefits selection, and to guide managers through compensation decisions.</td>\n",
              "      <td>Deliver quality customer experiences and recommend operational improvements where opportunity exists to improve and achieve operational excellence</td>\n",
              "      <td>0.755458</td>\n",
              "    </tr>\n",
              "  </tbody>\n",
              "</table>\n",
              "</div>"
            ],
            "text/plain": [
              "       onet_task_id  ... similarity\n",
              "12984  2749          ...  0.655448 \n",
              "11540  2328          ...  0.636406 \n",
              "17129  14265         ...  0.620005 \n",
              "11817  689           ...  0.617726 \n",
              "14016  11507         ...  0.615975 \n",
              "1020   15646         ...  0.726597 \n",
              "18358  3155          ...  0.719020 \n",
              "1011   15644         ...  0.715946 \n",
              "14848  11655         ...  0.705352 \n",
              "413    3275          ...  0.698643 \n",
              "7056   1669          ...  0.798288 \n",
              "2008   3417          ...  0.782312 \n",
              "1880   1258          ...  0.739320 \n",
              "12676  4729          ...  0.738474 \n",
              "14848  11655         ...  0.734609 \n",
              "1614   3364          ...  0.802072 \n",
              "1741   15959         ...  0.799565 \n",
              "12206  9718          ...  0.790160 \n",
              "813    61            ...  0.788297 \n",
              "1807   120           ...  0.781090 \n",
              "12654  11294         ...  0.771614 \n",
              "1880   1258          ...  0.768538 \n",
              "12673  4724          ...  0.758399 \n",
              "11907  20782         ...  0.757238 \n",
              "12869  11315         ...  0.754811 \n",
              "419    3269          ...  0.766938 \n",
              "430    989           ...  0.758486 \n",
              "4764   7564          ...  0.727726 \n",
              "13103  2802          ...  0.723554 \n",
              "1746   15981         ...  0.720640 \n",
              "18131  8561          ...  0.687563 \n",
              "942    1129          ...  0.687538 \n",
              "919    7229          ...  0.674034 \n",
              "11680  2390          ...  0.670318 \n",
              "725    1082          ...  0.665302 \n",
              "11129  13141         ...  0.783877 \n",
              "5369   241           ...  0.781424 \n",
              "11729  658           ...  0.776113 \n",
              "726    1086          ...  0.758018 \n",
              "409    3285          ...  0.755458 \n",
              "\n",
              "[40 rows x 4 columns]"
            ]
          },
          "metadata": {
            "tags": []
          },
          "execution_count": 72
        }
      ]
    },
    {
      "cell_type": "code",
      "metadata": {
        "id": "pHYb-Msa8a09",
        "colab_type": "code",
        "outputId": "7f4e1f82-3e35-4b81-f69c-1079020f5ec5",
        "colab": {
          "base_uri": "https://localhost:8080/",
          "height": 580
        }
      },
      "source": [
        "pd.set_option('display.max_colwidth', -1)\n",
        "sim_scores.sort_values(by='distance', ascending=False)"
      ],
      "execution_count": 0,
      "outputs": [
        {
          "output_type": "execute_result",
          "data": {
            "text/html": [
              "<div>\n",
              "<style scoped>\n",
              "    .dataframe tbody tr th:only-of-type {\n",
              "        vertical-align: middle;\n",
              "    }\n",
              "\n",
              "    .dataframe tbody tr th {\n",
              "        vertical-align: top;\n",
              "    }\n",
              "\n",
              "    .dataframe thead th {\n",
              "        text-align: right;\n",
              "    }\n",
              "</style>\n",
              "<table border=\"1\" class=\"dataframe\">\n",
              "  <thead>\n",
              "    <tr style=\"text-align: right;\">\n",
              "      <th></th>\n",
              "      <th>onet_task_id</th>\n",
              "      <th>onet_task</th>\n",
              "      <th>job_task</th>\n",
              "      <th>distance</th>\n",
              "    </tr>\n",
              "  </thead>\n",
              "  <tbody>\n",
              "    <tr>\n",
              "      <th>2096</th>\n",
              "      <td>16057</td>\n",
              "      <td>Analyze financial data to detect irregularities in areas such as billing trends, financial relationships, and regulatory compliance procedures.</td>\n",
              "      <td>Process financial transactions like deposits, withdrawals and bill payments as per standardized operating procedures, industry regulations and TDs Code of Conduct and Ethics</td>\n",
              "      <td>0.817276</td>\n",
              "    </tr>\n",
              "    <tr>\n",
              "      <th>186</th>\n",
              "      <td>20168</td>\n",
              "      <td>Monitor financial activities and details, such as cash flow and reserve levels, to ensure that all legal and regulatory requirements are met.</td>\n",
              "      <td>Process financial transactions like deposits, withdrawals and bill payments as per standardized operating procedures, industry regulations and TDs Code of Conduct and Ethics</td>\n",
              "      <td>0.812631</td>\n",
              "    </tr>\n",
              "    <tr>\n",
              "      <th>192</th>\n",
              "      <td>8860</td>\n",
              "      <td>Conduct or coordinate audits of company accounts and financial transactions to ensure compliance with state and federal requirements and statutes.</td>\n",
              "      <td>Process financial transactions like deposits, withdrawals and bill payments as per standardized operating procedures, industry regulations and TDs Code of Conduct and Ethics</td>\n",
              "      <td>0.810593</td>\n",
              "    </tr>\n",
              "    <tr>\n",
              "      <th>12391</th>\n",
              "      <td>2558</td>\n",
              "      <td>Process transactions, such as term deposits, retirement savings plan contributions, automated teller transactions, night deposits, and mail deposits.</td>\n",
              "      <td>Process financial transactions like deposits, withdrawals and bill payments as per standardized operating procedures, industry regulations and TDs Code of Conduct and Ethics</td>\n",
              "      <td>0.802827</td>\n",
              "    </tr>\n",
              "    <tr>\n",
              "      <th>2647</th>\n",
              "      <td>3512</td>\n",
              "      <td>Determine equitable basis for distributing surplus earnings under participating insurance and annuity contracts in mutual companies.</td>\n",
              "      <td>Process financial transactions like deposits, withdrawals and bill payments as per standardized operating procedures, industry regulations and TDs Code of Conduct and Ethics</td>\n",
              "      <td>0.784535</td>\n",
              "    </tr>\n",
              "    <tr>\n",
              "      <th>...</th>\n",
              "      <td>...</td>\n",
              "      <td>...</td>\n",
              "      <td>...</td>\n",
              "      <td>...</td>\n",
              "    </tr>\n",
              "    <tr>\n",
              "      <th>13692</th>\n",
              "      <td>8771</td>\n",
              "      <td>Set stone or marble in place, according to layout or pattern.</td>\n",
              "      <td>Process financial transactions like deposits, withdrawals and bill payments as per standardized operating procedures, industry regulations and TDs Code of Conduct and Ethics</td>\n",
              "      <td>-0.007916</td>\n",
              "    </tr>\n",
              "    <tr>\n",
              "      <th>8019</th>\n",
              "      <td>4062</td>\n",
              "      <td>Record needed sounds or obtain them from sound effects libraries.</td>\n",
              "      <td>Process financial transactions like deposits, withdrawals and bill payments as per standardized operating procedures, industry regulations and TDs Code of Conduct and Ethics</td>\n",
              "      <td>-0.015474</td>\n",
              "    </tr>\n",
              "    <tr>\n",
              "      <th>8031</th>\n",
              "      <td>4071</td>\n",
              "      <td>Discuss the sound requirements of pictures with sound effects editors.</td>\n",
              "      <td>Process financial transactions like deposits, withdrawals and bill payments as per standardized operating procedures, industry regulations and TDs Code of Conduct and Ethics</td>\n",
              "      <td>-0.016319</td>\n",
              "    </tr>\n",
              "    <tr>\n",
              "      <th>15280</th>\n",
              "      <td>5192</td>\n",
              "      <td>Paint bicycle frames, using spray guns or brushes.</td>\n",
              "      <td>Process financial transactions like deposits, withdrawals and bill payments as per standardized operating procedures, industry regulations and TDs Code of Conduct and Ethics</td>\n",
              "      <td>-0.023468</td>\n",
              "    </tr>\n",
              "    <tr>\n",
              "      <th>15006</th>\n",
              "      <td>13747</td>\n",
              "      <td>Position or mount speakers, and wire speakers to consoles.</td>\n",
              "      <td>Process financial transactions like deposits, withdrawals and bill payments as per standardized operating procedures, industry regulations and TDs Code of Conduct and Ethics</td>\n",
              "      <td>-0.037714</td>\n",
              "    </tr>\n",
              "  </tbody>\n",
              "</table>\n",
              "<p>19048 rows × 4 columns</p>\n",
              "</div>"
            ],
            "text/plain": [
              "       onet_task_id  ...  distance\n",
              "2096   16057         ...  0.817276\n",
              "186    20168         ...  0.812631\n",
              "192    8860          ...  0.810593\n",
              "12391  2558          ...  0.802827\n",
              "2647   3512          ...  0.784535\n",
              "...     ...          ...       ...\n",
              "13692  8771          ... -0.007916\n",
              "8019   4062          ... -0.015474\n",
              "8031   4071          ... -0.016319\n",
              "15280  5192          ... -0.023468\n",
              "15006  13747         ... -0.037714\n",
              "\n",
              "[19048 rows x 4 columns]"
            ]
          },
          "metadata": {
            "tags": []
          },
          "execution_count": 48
        }
      ]
    }
  ]
}